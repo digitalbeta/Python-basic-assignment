{
 "cells": [
  {
   "cell_type": "raw",
   "id": "bfe4da94-fd78-4657-abd0-6713aab3a727",
   "metadata": {},
   "source": [
    "Theoretical questions and answers"
   ]
  },
  {
   "cell_type": "raw",
   "id": "317c9a20-5b19-44f1-be7d-6f245d08a2f4",
   "metadata": {},
   "source": [
    "Python Basics Assignment\n",
    "\n",
    "Q1. What is Python, and why is it popular?\n",
    "ans: \n",
    "\n",
    "Python is an interpreted, object-oriented, high-level programming language with dynamic semantics developed by Guido van Rossum. It was originally released in 1991. Designed to be easy as well as fun, the name \"Python\" is a nod to the British comedy group Monty Python. Python has a reputation as a beginner-friendly language, replacing Java as the most widely used introductory language because it handles much of the complexity for the user, allowing beginners to focus on fully grasping programming concepts rather than minute details.\n",
    "\n",
    "Here's why it's so popular:\n",
    "\n",
    "Easy to learn: Python's syntax is clear and intuitive, making it beginner-friendly.   \n",
    "\n",
    "Versatile: It can be used for a wide range of tasks, from simple scripts to complex applications.\n",
    "  \n",
    "Large community: A vast and active community provides support and resources.   \n",
    "\n",
    "Extensive libraries: Python offers a wealth of pre-built modules and packages for various tasks.   \n",
    "\n",
    "Open-source: It's free to use and distribute, fostering collaboration and innovation.   \n",
    "\n",
    "Python's popularity continues to grow as it empowers developers to build innovative solutions across diverse fields.   \n",
    "\n",
    "\n",
    "Q2. What is an interpreter in Python?\n",
    "ans: \n",
    "\n",
    "In Python, an interpreter is like a translator that reads and executes your code line by line. It takes your Python code, understands what you're \n",
    "trying to do, and then instructs the computer to perform those actions.\n",
    "\n",
    "Q3. What are pre-defined keywords in Python?\n",
    "ans:\n",
    "\n",
    "In Python, pre-defined keywords are like the reserved words of the language.\n",
    "They have special meanings and purposes within the Python syntax, and you can't use them for anything else, like naming your variables or functions.\n",
    "\n",
    "Q4. Can keywords be used as variable names?\n",
    "ans:\n",
    "\n",
    "NO keyword can not be used as variable names.\n",
    "\n",
    "Q5. What is mutability in Python?\n",
    "ans:\n",
    "\n",
    "In Python, mutability refers to whether the value of an object can be changed after it's created.\n",
    "\n",
    "Q6. Why are lists mutable, but tuples are immutable?\n",
    "ans:\n",
    "\n",
    "Lists are mutable because lists are meant to be modified. You can add, remove, or change elements as needed. This makes them ideal for situations where you need to work with a collection of items that might change over time. \n",
    "But Tuples are immutable because tuples are meant to hold a fixed set of items.\n",
    "Once created, you can't change their contents. This makes them suitable for representing data that shouldn't be altered.\n",
    "\n",
    "Q7. What is the difference between “==” and “is” operators in Python?\n",
    "ans:\n",
    "\n",
    "\"==\" is a equality operator but \"is\" is a identity operator.\n",
    "The equality operator == in Python is used to compare the values of two objects.  It checks if the contents or attributes of the objects are equivalent, not necessarily if they are the same object in memory.\n",
    "\n",
    "The identity operator is in Python checks if two variables or names refer to the exact same object in memory.  It's not comparing values; it's comparing identity.  Think of it as asking, \"Are these two names pointing to the very same thing in memory?\"\n",
    "\n",
    "Q8. What are logical operators in Python?\n",
    "ans:\n",
    "\n",
    "Logical operators in Python are used to combine or modify boolean values (True or False). They are essential for creating complex conditions in your code, often used in if statements, while loops, and other control flow structures.\n",
    "\n",
    "Q9. What is type casting in Python?\n",
    "ans:\n",
    "\n",
    "Type casting in Python is the process of converting a value from one data type to another.  It's like transforming a piece of information from one form to another, so it can be used in a different context or operation.\n",
    "\n",
    "Q10. What is the difference between implicit and explicit type casting?\n",
    "ans:\n",
    "\n",
    "implicit type casting >> Python understand the datatype itself. \n",
    "explicit type casting >> Convert data type using inbuilt functioned >> str, int, float, bool.\n",
    "\n",
    "Q11. What is the purpose of conditional statements in Python?\n",
    "ans:\n",
    "\n",
    "The purpose of conditional statements in Python is to control the flow of execution of your code. They allow you to make decisions in your program, executing different blocks of code based on whether certain conditions are met.  Think of them as the \"brains\" of your code, enabling it to react to different situations.\n",
    "\n",
    "Q12. How does the elif statement work?\n",
    "ans:\n",
    "\n",
    "The elif statement in Python (short for \"else if\") is a way to check multiple conditions in sequence. It's used when you have more than two possible outcomes and you want to test each condition one by one.  Here's how it works:\n",
    "\n",
    "score = 75\n",
    "if score >= 90:\n",
    "    print(\"grade A\")\n",
    "elif 70 < score <= 89:\n",
    "    print(\"grade B\")\n",
    "else:\n",
    "    print(\"grade C\")\n",
    "grade B"
   ]
  },
  {
   "cell_type": "code",
   "execution_count": 17,
   "id": "a0e10932-da5a-4d54-a30e-474acc927be3",
   "metadata": {},
   "outputs": [
    {
     "name": "stdout",
     "output_type": "stream",
     "text": [
      "grade B\n"
     ]
    }
   ],
   "source": [
    "score = 75\n",
    "if score >= 90:\n",
    "    print(\"grade A\")\n",
    "elif (70 <= score < 89):\n",
    "    print(\"grade B\")\n",
    "else:\n",
    "    print(\"grade C\")"
   ]
  },
  {
   "cell_type": "raw",
   "id": "7c55084f-c2bf-4af3-992c-64f55720d134",
   "metadata": {},
   "source": [
    "Q13. What is the difference between for and while loops?\n",
    "ans:\n",
    "\n",
    "Both for and while loops are used for repetition in Python (and most programming languages), but they serve different purposes and are used in slightly different ways. Here's a breakdown of their key differences:\n",
    "\n",
    "for Loop:\n",
    "\n",
    "Iteration over a sequence: for loops are primarily designed for iterating over a sequence (like a list, tuple, string, or range) or other iterable object. They are used when you know in advance how many times you need to loop (or at least you can determine it from the sequence).\n",
    "\n",
    "while Loop:\n",
    "\n",
    "Condition-based repetition: while loops are used when you want to repeat a block of code as long as a certain condition is True. The number of iterations is not necessarily known beforehand; it depends on when the condition becomes False.\n",
    "\n",
    "Q14. Describe a scenario where a while loop is more suitable than a for loop.\n",
    "ans:\n",
    "\n",
    "A while loop is more suitable than a for loop in scenarios where the number of repetitions is not known in advance and depends on a condition that might change during the loop's execution. Here are a couple of concrete examples:\n",
    "\n",
    "1. Reading Data Until a Specific Input:\n",
    "\n",
    "Imagine you're writing a program that reads data from the user until they enter a specific word, like \"done\" or \"quit.\"  You don't know how many inputs the user will provide beforehand.\n",
    "A for loop wouldn't be ideal here because you don't know how many iterations are needed. The while loop allows you to continue reading input until the user signals that they're finished.\n",
    "\n",
    "2. Simulating a Process with Changing Conditions:\n",
    "\n",
    "Suppose you're simulating a process, like the growth of a population or the decay of a radioactive substance. The simulation might continue until a certain threshold is reached (e.g., the population reaches a certain size, or the amount of substance falls below a certain level).\n",
    "In this case, the number of iterations depends on how long it takes for the population to reach the threshold.  A while loop is perfect because the condition (population < threshold) is checked at each iteration.\n",
    "\n",
    "3. Game Loops:\n",
    "\n",
    "In game development, game loops often use while loops. The game continues to run as long as certain conditions are met (e.g., the player hasn't quit, the game isn't over).  The number of frames or updates is not predetermined.\n",
    "\n"
   ]
  },
  {
   "cell_type": "raw",
   "id": "0f284dfe-0ee6-4a74-8395-d2d63ff98b1e",
   "metadata": {},
   "source": [
    "Pratical Questions and Answers:"
   ]
  },
  {
   "cell_type": "code",
   "execution_count": 19,
   "id": "8d854dbb-3c1c-4bf5-9e04-f27b4193090b",
   "metadata": {},
   "outputs": [
    {
     "name": "stdout",
     "output_type": "stream",
     "text": [
      "Hello, World!\n"
     ]
    }
   ],
   "source": [
    "#Q1. Write a Python program to print \"Hello, World!_\"\n",
    "\n",
    "print(\"Hello, World!\")"
   ]
  },
  {
   "cell_type": "code",
   "execution_count": 31,
   "id": "d438a93f-0270-4037-acc6-808dcf3ddf4b",
   "metadata": {},
   "outputs": [
    {
     "name": "stdout",
     "output_type": "stream",
     "text": [
      "Name: Sunil kumar\n",
      "Age: 26\n"
     ]
    }
   ],
   "source": [
    "#Q2. Write a Python program that displays your name and age\n",
    "name = \"Sunil kumar\"\n",
    "age = 26\n",
    "print(\"Name:\", name)\n",
    "print(\"Age:\", age)"
   ]
  },
  {
   "cell_type": "code",
   "execution_count": 33,
   "id": "bba15519-653b-4387-98a0-fd08da532009",
   "metadata": {},
   "outputs": [
    {
     "name": "stdout",
     "output_type": "stream",
     "text": [
      "List of Python Keywords:\n",
      "['False', 'None', 'True', 'and', 'as', 'assert', 'async', 'await', 'break', 'class', 'continue', 'def', 'del', 'elif', 'else', 'except', 'finally', 'for', 'from', 'global', 'if', 'import', 'in', 'is', 'lambda', 'nonlocal', 'not', 'or', 'pass', 'raise', 'return', 'try', 'while', 'with', 'yield']\n"
     ]
    }
   ],
   "source": [
    "#Q3. Write code to print all the pre-defined keywords in Python using the keyword library.\n",
    "\n",
    "import keyword\n",
    "print(\"List of Python Keywords:\")\n",
    "print(keyword.kwlist)"
   ]
  },
  {
   "cell_type": "code",
   "execution_count": 45,
   "id": "fe9fc1ca-5c93-4d14-995d-5c15818e1fa3",
   "metadata": {},
   "outputs": [
    {
     "name": "stdin",
     "output_type": "stream",
     "text": [
      "Enter a word to check if it is a Python keyword:  False\n"
     ]
    },
    {
     "name": "stdout",
     "output_type": "stream",
     "text": [
      "'False' is a Python keyword.\n"
     ]
    }
   ],
   "source": [
    "#Q4. Write a program that checks if a given word is a Python keyword.\n",
    "\n",
    "import keyword\n",
    "def is_python_keyword(word):\n",
    "    if keyword.iskeyword(word):\n",
    "        print(f\"'{word}' is a Python keyword.\")\n",
    "    else:\n",
    "        print(f\"'{word}' is not a Python keyword.\")\n",
    "word = input(\"Enter a word to check if it is a Python keyword: \")\n",
    "is_python_keyword(word)"
   ]
  },
  {
   "cell_type": "code",
   "execution_count": 49,
   "id": "d5b8c64a-cf9c-4b98-9edd-277dfbb83496",
   "metadata": {},
   "outputs": [
    {
     "name": "stdout",
     "output_type": "stream",
     "text": [
      "Original list: [10, 20, 30, 40]\n",
      "Updated list: [10, 20, 99, 40]\n",
      "\n",
      "Original tuple: (100, 200, 300, 400)\n",
      "Error: 'tuple' object does not support item assignment\n"
     ]
    }
   ],
   "source": [
    "#5. '''Create a list and tuple in Python, and demonstrate how attempting to change an element works differentl for each'''\n",
    "\n",
    "my_list = [10, 20, 30, 40]\n",
    "my_tuple = (100, 200, 300, 400)\n",
    "\n",
    "print(\"Original list:\", my_list)\n",
    "my_list[2] = 99\n",
    "print(\"Updated list:\", my_list)\n",
    "\n",
    "print(\"\\nOriginal tuple:\", my_tuple)\n",
    "try:\n",
    "    my_tuple[2] = 99\n",
    "except TypeError as e:\n",
    "    print(\"Error:\", e)"
   ]
  },
  {
   "cell_type": "code",
   "execution_count": 59,
   "id": "7b7a1418-436d-4878-8ee4-b83f5c613926",
   "metadata": {},
   "outputs": [
    {
     "name": "stdout",
     "output_type": "stream",
     "text": [
      "Original immutable argument: 10\n",
      "Modified immutable argument: 100\n",
      "\n",
      "Original mutable argument: [1, 2, 3]\n",
      "Modified mutable argument: [1, 2, 3, 5]\n"
     ]
    }
   ],
   "source": [
    "#Q6.  Write a function to demonstrate the behavior of mutable and immutable arguments.\n",
    "\n",
    "def demonstrate_mutability(immutable_arg, mutable_arg):\n",
    "    \n",
    "    print(\"Original immutable argument:\", immutable_arg)\n",
    "    immutable_arg = 100\n",
    "    print(\"Modified immutable argument:\", immutable_arg)\n",
    "    \n",
    "    print(\"\\nOriginal mutable argument:\", mutable_arg)\n",
    "    mutable_arg.append(5)\n",
    "    print(\"Modified mutable argument:\", mutable_arg)\n",
    "    \n",
    "immutable_example = 10\n",
    "mutable_example = [1, 2, 3]\n",
    "\n",
    "demonstrate_mutability(immutable_example, mutable_example)"
   ]
  },
  {
   "cell_type": "code",
   "execution_count": 61,
   "id": "bc22d84b-9226-4c07-a0e2-c3207a6b3e3e",
   "metadata": {},
   "outputs": [
    {
     "name": "stdout",
     "output_type": "stream",
     "text": [
      "Original immutable argument: 10\n",
      "Modified immutable argument: 100\n",
      "\n",
      "Original mutable argument: [1, 2, 3]\n",
      "Modified mutable argument: [1, 2, 3, 5]\n"
     ]
    }
   ],
   "source": [
    "#Q7. Write a function to demonstrate the behavior of mutable and immutable arguments.\n",
    "\n",
    "def demonstrate_mutability(immutable_arg, mutable_arg):\n",
    "    \n",
    "    print(\"Original immutable argument:\", immutable_arg)\n",
    "    immutable_arg = 100\n",
    "    print(\"Modified immutable argument:\", immutable_arg)\n",
    "    \n",
    "    print(\"\\nOriginal mutable argument:\", mutable_arg)\n",
    "    mutable_arg.append(5)\n",
    "    print(\"Modified mutable argument:\", mutable_arg)\n",
    "    \n",
    "immutable_example = 10\n",
    "mutable_example = [1, 2, 3]\n",
    "\n",
    "demonstrate_mutability(immutable_example, mutable_example)"
   ]
  },
  {
   "cell_type": "code",
   "execution_count": 63,
   "id": "3608aef3-93f5-43e8-bca2-4686cb7a0767",
   "metadata": {},
   "outputs": [
    {
     "name": "stdout",
     "output_type": "stream",
     "text": [
      "Using 'and' operator:\n",
      "Both conditions are True!\n",
      "\n",
      "Using 'or' operator:\n",
      "At least one condition is True!\n",
      "\n",
      "Using 'not' operator:\n",
      "The condition 'x < 5' is False!\n"
     ]
    }
   ],
   "source": [
    "#Q8. Write a program to demonstrate the use of logical operators.\n",
    "\n",
    "x = 10\n",
    "y = 20\n",
    "z = 5\n",
    "\n",
    "print(\"Using 'and' operator:\")\n",
    "if x > 5 and y > 15:\n",
    "    print(\"Both conditions are True!\")\n",
    "else:\n",
    "    print(\"At least one condition is False!\")\n",
    "print(\"\\nUsing 'or' operator:\")\n",
    "if x < 5 or y > 15:\n",
    "    print(\"At least one condition is True!\")\n",
    "else:\n",
    "    print(\"Both conditions are False!\")\n",
    "print(\"\\nUsing 'not' operator:\")\n",
    "if not x < 5:\n",
    "    print(\"The condition 'x < 5' is False!\")\n",
    "else:\n",
    "    print(\"The condition 'x < 5' is True!\")\n"
   ]
  },
  {
   "cell_type": "raw",
   "id": "3308e1a6-72e4-4cc6-9957-6447ac496b8d",
   "metadata": {},
   "source": [
    "#Q9. Write a Python program to convert user\n",
    "input from string to integer, float, and boolean\n",
    "types."
   ]
  },
  {
   "cell_type": "code",
   "execution_count": 1,
   "id": "3734ebd8-cee2-4304-b7b0-761f0a72d3fb",
   "metadata": {},
   "outputs": [
    {
     "name": "stdin",
     "output_type": "stream",
     "text": [
      "Enter a value:  10\n"
     ]
    },
    {
     "name": "stdout",
     "output_type": "stream",
     "text": [
      "Converted to integer: 10\n",
      "Converted to float: 10.0\n",
      "Converted to boolean: True\n"
     ]
    }
   ],
   "source": [
    "user_input = input(\"Enter a value: \")\n",
    "\n",
    "try:\n",
    "    int_value = int(user_input)\n",
    "    print(\"Converted to integer:\", int_value)\n",
    "except ValueError:\n",
    "    print(\"Unable to convert to integer.\")\n",
    "    \n",
    "try:\n",
    "    float_value = float(user_input)\n",
    "    print(\"Converted to float:\", float_value)\n",
    "except ValueError:\n",
    "    print(\"Unable to convert to float.\")\n",
    "    \n",
    "if user_input.lower() in [\"true\", \"1\", \"yes\"]:\n",
    "    bool_value = True\n",
    "elif user_input.lower() in [\"false\", \"0\", \"no\"]:\n",
    "    bool_value = False\n",
    "else:\n",
    "    bool_value = bool(user_input)\n",
    "print(\"Converted to boolean:\", bool_value)"
   ]
  },
  {
   "cell_type": "code",
   "execution_count": 3,
   "id": "438ffab5-e24d-4605-a25c-9befc7920ad6",
   "metadata": {},
   "outputs": [
    {
     "name": "stdout",
     "output_type": "stream",
     "text": [
      "Original list: ['10', '20.5', 'True', '100', 'False']\n",
      "List after converting to integers: [10, 0, 0, 100, 0]\n",
      "List after converting to floats: [10.0, 20.5, 0.0, 100.0, 0.0]\n",
      "List after converting to booleans: [False, False, True, False, False]\n"
     ]
    }
   ],
   "source": [
    "#Q10. Write code to demonstrate type casting with list elements.\n",
    "\n",
    "list_elements = [\"10\", \"20.5\", \"True\", \"100\", \"False\"]\n",
    "\n",
    "int_elements = [int(element) if element.isdigit() else 0 for element\n",
    "in list_elements]\n",
    "float_elements = [float(element) if element.replace('.', '',\n",
    "1).isdigit() else 0.0 for element in list_elements]\n",
    "bool_elements = [element.lower() in [\"true\", \"1\", \"yes\"] for element\n",
    "in list_elements]\n",
    "\n",
    "print(\"Original list:\", list_elements)\n",
    "print(\"List after converting to integers:\", int_elements)\n",
    "print(\"List after converting to floats:\", float_elements)\n",
    "print(\"List after converting to booleans:\", bool_elements)"
   ]
  },
  {
   "cell_type": "code",
   "execution_count": 13,
   "id": "5d36df4c-6e3c-43f2-881a-38351b884ed8",
   "metadata": {},
   "outputs": [
    {
     "name": "stdin",
     "output_type": "stream",
     "text": [
      "Enter a number:  19\n"
     ]
    },
    {
     "name": "stdout",
     "output_type": "stream",
     "text": [
      "19.0 is a positive number.\n"
     ]
    }
   ],
   "source": [
    "#Q11. Write a program that checks if a number is positive, negative, or zero.\n",
    "\n",
    "def check_number(num):\n",
    "    if num > 0:\n",
    "        print(f\"{num} is a positive number.\")\n",
    "    elif num < 0:\n",
    "        print(f\"{num} is a negative number.\")\n",
    "    else:\n",
    "        print(f\"{num} is zero.\")\n",
    "\n",
    "number = float(input(\"Enter a number: \"))\n",
    "\n",
    "check_number(number)"
   ]
  },
  {
   "cell_type": "code",
   "execution_count": 15,
   "id": "88cf66aa-3cc4-492e-a458-5b353df465a8",
   "metadata": {},
   "outputs": [
    {
     "name": "stdin",
     "output_type": "stream",
     "text": [
      "Enter a number:  0\n"
     ]
    },
    {
     "name": "stdout",
     "output_type": "stream",
     "text": [
      "0.0 is zero.\n"
     ]
    }
   ],
   "source": [
    "def check_number(num):\n",
    "    if num > 0:\n",
    "        print(f\"{num} is a positive number.\")\n",
    "    elif num < 0:\n",
    "        print(f\"{num} is a negative number.\")\n",
    "    else:\n",
    "        print(f\"{num} is zero.\")\n",
    "\n",
    "number = float(input(\"Enter a number: \"))\n",
    "\n",
    "check_number(number)"
   ]
  },
  {
   "cell_type": "code",
   "execution_count": 17,
   "id": "98ce6289-0c21-44c9-9677-886446c8720e",
   "metadata": {},
   "outputs": [
    {
     "name": "stdin",
     "output_type": "stream",
     "text": [
      "Enter a number:  -34\n"
     ]
    },
    {
     "name": "stdout",
     "output_type": "stream",
     "text": [
      "-34.0 is a negative number.\n"
     ]
    }
   ],
   "source": [
    "def check_number(num):\n",
    "    if num > 0:\n",
    "        print(f\"{num} is a positive number.\")\n",
    "    elif num < 0:\n",
    "        print(f\"{num} is a negative number.\")\n",
    "    else:\n",
    "        print(f\"{num} is zero.\")\n",
    "\n",
    "number = float(input(\"Enter a number: \"))\n",
    "\n",
    "check_number(number)"
   ]
  },
  {
   "cell_type": "code",
   "execution_count": 21,
   "id": "32b13cff-8347-4372-8605-6709e784c67f",
   "metadata": {},
   "outputs": [
    {
     "name": "stdout",
     "output_type": "stream",
     "text": [
      "1\n",
      "2\n",
      "3\n",
      "4\n",
      "5\n",
      "6\n",
      "7\n",
      "8\n",
      "9\n",
      "10\n"
     ]
    }
   ],
   "source": [
    "#Q12.  Write a for loop to print numbers from 1 to 10.\n",
    "\n",
    "for num in range(1,11):\n",
    "    print(num)"
   ]
  },
  {
   "cell_type": "code",
   "execution_count": 9,
   "id": "4f8f2531-f088-42f1-8be8-114a53514fc2",
   "metadata": {},
   "outputs": [
    {
     "name": "stdout",
     "output_type": "stream",
     "text": [
      "Sum of all even numbers between 1 and 50: 650\n"
     ]
    }
   ],
   "source": [
    "#Q13. Write a Python program to find the sum of all even numbers between 1 and 50.\n",
    "\n",
    "sum_of_evens = 0\n",
    "    \n",
    "for num in range(1,51):\n",
    "    if num % 2 == 0:\n",
    "        sum_of_evens += num\n",
    "        \n",
    "print(\"Sum of all even numbers between 1 and 50:\", sum_of_evens)"
   ]
  },
  {
   "cell_type": "code",
   "execution_count": 15,
   "id": "50adb504-638c-4e3a-9bd2-4d103b7eb4ca",
   "metadata": {},
   "outputs": [
    {
     "name": "stdin",
     "output_type": "stream",
     "text": [
      "Enter a string:  Pwskills\n"
     ]
    },
    {
     "name": "stdout",
     "output_type": "stream",
     "text": [
      "Reversed string: sllikswP\n"
     ]
    }
   ],
   "source": [
    "#Q14. Write a program to reverse a string using a while loop.\n",
    "\n",
    "def reverse_string(input_string):\n",
    "    reversed_string = \"\"\n",
    "    index = len(input_string) - 1\n",
    "    \n",
    "    while index >= 0:\n",
    "        reversed_string += input_string[index]\n",
    "        index -= 1\n",
    "\n",
    "    return reversed_string\n",
    "\n",
    "user_input = input(\"Enter a string: \")\n",
    "\n",
    "result = reverse_string(user_input)\n",
    "\n",
    "print(\"Reversed string:\", result)"
   ]
  },
  {
   "cell_type": "code",
   "execution_count": 17,
   "id": "08e3ba74-dfeb-4f39-ba3a-f9c83dcc024f",
   "metadata": {},
   "outputs": [
    {
     "name": "stdin",
     "output_type": "stream",
     "text": [
      "Enter a number:  66\n"
     ]
    },
    {
     "name": "stdout",
     "output_type": "stream",
     "text": [
      "The factorial of 66 is: 544344939077443064003729240247842752644293064388798874532860126869671081148416000000000000000\n"
     ]
    }
   ],
   "source": [
    "#Q15. Write a Python program to calculate the factorial of a number provided by the user using a while loop.\n",
    "\n",
    "def calculate_factorial(num):\n",
    "    factorial = 1\n",
    "    while num > 1:\n",
    "        factorial *= num\n",
    "        num -= 1\n",
    "    return factorial\n",
    "number = int(input(\"Enter a number: \"))\n",
    "\n",
    "if number < 0:\n",
    "    print(\"Factorial does not exist for negative numbers.\")\n",
    "else:\n",
    "    result = calculate_factorial(number)\n",
    "    print(f\"The factorial of {number} is: {result}\")"
   ]
  },
  {
   "cell_type": "raw",
   "id": "83ac115d-2f99-4bee-8463-e30613f6843c",
   "metadata": {},
   "source": [
    "Thank you \n",
    "I completed my assignment with the help of google gemini and friends."
   ]
  }
 ],
 "metadata": {
  "kernelspec": {
   "display_name": "Python [conda env:base] *",
   "language": "python",
   "name": "conda-base-py"
  },
  "language_info": {
   "codemirror_mode": {
    "name": "ipython",
    "version": 3
   },
   "file_extension": ".py",
   "mimetype": "text/x-python",
   "name": "python",
   "nbconvert_exporter": "python",
   "pygments_lexer": "ipython3",
   "version": "3.12.7"
  }
 },
 "nbformat": 4,
 "nbformat_minor": 5
}
